{
 "cells": [
  {
   "cell_type": "code",
   "execution_count": 1,
   "metadata": {},
   "outputs": [],
   "source": [
    "%load_ext autoreload\n",
    "%autoreload 2"
   ]
  },
  {
   "cell_type": "code",
   "execution_count": 36,
   "metadata": {},
   "outputs": [],
   "source": [
    "import sys\n",
    "sys.path.append('../src/')\n",
    "import youtube_dl\n",
    "from youScraper import crawl, ydl_opts\n",
    "import pandas as pd\n",
    "import os\n",
    "import datetime"
   ]
  },
  {
   "cell_type": "markdown",
   "metadata": {},
   "source": [
    "## Playlist `url` & download location"
   ]
  },
  {
   "cell_type": "code",
   "execution_count": 48,
   "metadata": {},
   "outputs": [],
   "source": [
    "download_dir = '/Users/hasannagib/Music/Workout_2020' \n",
    "url_list = crawl('https://www.youtube.com/playlist?list=PLC-5C1DmrxMBaDFBpNVwQmZ53CHSkF8Q2')"
   ]
  },
  {
   "cell_type": "markdown",
   "metadata": {},
   "source": [
    "## Downloaded new `url`s\n",
    "\n",
    "Save a list of video urls downloadded previously in `urls.csv`. If this is the first time downloading in this directory, then this will be an empty file. We will cross reference urls from this file against those crawled from the youtube playlist in `url_list` and download any missing videos/songs."
   ]
  },
  {
   "cell_type": "code",
   "execution_count": 49,
   "metadata": {},
   "outputs": [
    {
     "name": "stdout",
     "output_type": "stream",
     "text": [
      "The following will be downloadded:\n",
      "http://www.youtube.com/watch?v=WmpOzU6Xg4A\n",
      "http://www.youtube.com/watch?v=GA8n5FteeRU\n"
     ]
    }
   ],
   "source": [
    "try:\n",
    "    df_old = pd.read_csv(os.path.join(download_dir, 'urls.csv'))\n",
    "    df_old\n",
    "except FileNotFoundError:\n",
    "    df_old = pd.DataFrame({'url':[], 'download_date':[]})\n",
    "    \n",
    "df_new = pd.DataFrame(url_list, columns=['url'])\n",
    "df_new['download_date'] = datetime.datetime.today().strftime('%Y-%m-%d %H:%M:%S')\n",
    "\n",
    "download_urls = []\n",
    "for url in df_new['url']:\n",
    "    if url not in list(df_old['url']):\n",
    "        download_urls.append(url)\n",
    "\n",
    "print('The following will be downloadded:')\n",
    "[print(url) for url in download_urls];"
   ]
  },
  {
   "cell_type": "code",
   "execution_count": 50,
   "metadata": {},
   "outputs": [
    {
     "name": "stdout",
     "output_type": "stream",
     "text": [
      "[youtube] WmpOzU6Xg4A: Downloading webpage\n",
      "[youtube] WmpOzU6Xg4A: Downloading video info webpage\n",
      "[download] Destination: NO EXCUSES ■ CROSSFIT MOTIVATIONAL VIDEO-WmpOzU6Xg4A.webm\n",
      "[download] 100% of 3.96MiB in 00:0033MiB/s ETA 00:004\n",
      "[ffmpeg] Destination: NO EXCUSES ■ CROSSFIT MOTIVATIONAL VIDEO-WmpOzU6Xg4A.mp3\n",
      "Deleting original file NO EXCUSES ■ CROSSFIT MOTIVATIONAL VIDEO-WmpOzU6Xg4A.webm (pass -k to keep)\n",
      "[youtube] GA8n5FteeRU: Downloading webpage\n",
      "[youtube] GA8n5FteeRU: Downloading video info webpage\n",
      "[download] Destination: SO YOU THINK CROSSFIT  DOESN'T BUILD  MUSCLE !! JUST WATCH THIS ■ CROSSFIT MOTIVATIONAL VIDEO-GA8n5FteeRU.webm\n",
      "[download] 100% of 3.32MiB in 00:0188MiB/s ETA 00:0003\n",
      "[ffmpeg] Destination: SO YOU THINK CROSSFIT  DOESN'T BUILD  MUSCLE !! JUST WATCH THIS ■ CROSSFIT MOTIVATIONAL VIDEO-GA8n5FteeRU.mp3\n",
      "Deleting original file SO YOU THINK CROSSFIT  DOESN'T BUILD  MUSCLE !! JUST WATCH THIS ■ CROSSFIT MOTIVATIONAL VIDEO-GA8n5FteeRU.webm (pass -k to keep)\n"
     ]
    }
   ],
   "source": [
    "with youtube_dl.YoutubeDL(ydl_opts) as ydl:\n",
    "    ydl.download(download_urls)"
   ]
  },
  {
   "cell_type": "markdown",
   "metadata": {},
   "source": [
    "## Move files to `download_dir` & export `urls.csv`"
   ]
  },
  {
   "cell_type": "code",
   "execution_count": 54,
   "metadata": {},
   "outputs": [],
   "source": [
    "os.popen(f'mv *.mp3 {download_dir}')\n",
    "df_new.to_csv(os.path.join(download_dir, 'urls.csv'), index=None)"
   ]
  }
 ],
 "metadata": {
  "kernelspec": {
   "display_name": "Python 3",
   "language": "python",
   "name": "python3"
  },
  "language_info": {
   "codemirror_mode": {
    "name": "ipython",
    "version": 3
   },
   "file_extension": ".py",
   "mimetype": "text/x-python",
   "name": "python",
   "nbconvert_exporter": "python",
   "pygments_lexer": "ipython3",
   "version": "3.7.4"
  }
 },
 "nbformat": 4,
 "nbformat_minor": 2
}
